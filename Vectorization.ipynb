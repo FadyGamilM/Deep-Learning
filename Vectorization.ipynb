{
 "cells": [
  {
   "cell_type": "markdown",
   "source": [
    "# Vectorization Concept"
   ],
   "metadata": {}
  },
  {
   "cell_type": "markdown",
   "source": [
    "## - Why Vectorization ? \r\n",
    "* Vectorization helps us to empressively improve our operation run-time\r\n",
    "* Vectorization aims to remove the concept of for-loop from our model and use the efficent methods of python packages instead.\r\n",
    "* Vectorization use parallesim concepts like SMID instructions.\r\n",
    "* Vectorization can be done without GPUs"
   ],
   "metadata": {}
  },
  {
   "cell_type": "code",
   "execution_count": 1,
   "source": [
    "import numpy as np\r\n",
    "import time"
   ],
   "outputs": [],
   "metadata": {}
  },
  {
   "cell_type": "markdown",
   "source": [
    ">> ### Using Vectorization by the help of `np.dot( , )`"
   ],
   "metadata": {}
  },
  {
   "cell_type": "code",
   "execution_count": 3,
   "source": [
    "# define 2 arrays of milion elements\r\n",
    "a = np.random.rand(1000000)\r\n",
    "b = np.random.rand(1000000)\r\n",
    "start = time.time()\r\n",
    "result = np.dot(a, b)\r\n",
    "end=time.time()\r\n",
    "# print the result \r\n",
    "print(\"Result : \" + str(result))\r\n",
    "# check the time taken while using vectorization methods\r\n",
    "print(\"Time by using Vectorization = \"+str(end-start)+\" ms\")"
   ],
   "outputs": [
    {
     "output_type": "stream",
     "name": "stdout",
     "text": [
      "Result : 249717.89296069046\n",
      "Time by using Vectorization = 0.027930736541748047 ms\n"
     ]
    }
   ],
   "metadata": {}
  },
  {
   "cell_type": "markdown",
   "source": [
    ">> ### Using Normal For-Loop"
   ],
   "metadata": {}
  },
  {
   "cell_type": "code",
   "execution_count": 7,
   "source": [
    "START = time.time()\r\n",
    "for i in range(1000000):\r\n",
    "   RESULT += a[i]*b[i]\r\n",
    "END = time.time()\r\n",
    "# print the RESULT \r\n",
    "print(\"Result : \" + str(RESULT))\r\n",
    "# check the time taken without vectorization\r\n",
    "print(\"Time without using Vectorization = \"+str(END-START)+\" ms\")"
   ],
   "outputs": [
    {
     "output_type": "stream",
     "name": "stdout",
     "text": [
      "Result : 249718.11317320514\n",
      "Time without using Vectorization = 0.48795127868652344 ms\n"
     ]
    }
   ],
   "metadata": {}
  },
  {
   "cell_type": "markdown",
   "source": [],
   "metadata": {}
  }
 ],
 "metadata": {
  "orig_nbformat": 4,
  "language_info": {
   "name": "python",
   "version": "3.9.6",
   "mimetype": "text/x-python",
   "codemirror_mode": {
    "name": "ipython",
    "version": 3
   },
   "pygments_lexer": "ipython3",
   "nbconvert_exporter": "python",
   "file_extension": ".py"
  },
  "kernelspec": {
   "name": "python3",
   "display_name": "Python 3.9.6 64-bit"
  },
  "interpreter": {
   "hash": "4f55042294f68ce03f9c2964ac4c7279be05887da9cc7b319c7a6d1dc4cf54fd"
  }
 },
 "nbformat": 4,
 "nbformat_minor": 2
}