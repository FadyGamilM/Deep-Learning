{
  "nbformat": 4,
  "nbformat_minor": 0,
  "metadata": {
    "colab": {
      "name": "00-Intro-To-Tensorflow.ipynb",
      "provenance": [],
      "collapsed_sections": [
        "wrdHrWhRRlZT",
        "IBKdwfzH7bFc",
        "fXKQXHhb76PI",
        "B6voDlcbD-kV",
        "0vasZjFi7NBE",
        "qbZ0t3zgPOQH",
        "vduGm8gcRgGi",
        "LKnNKG2ilCbP",
        "arC5SWi-lwUt"
      ],
      "authorship_tag": "ABX9TyNiDNsEpD4HSKbwBqiMXAJi",
      "include_colab_link": true
    },
    "kernelspec": {
      "name": "python3",
      "display_name": "Python 3"
    },
    "language_info": {
      "name": "python"
    }
  },
  "cells": [
    {
      "cell_type": "markdown",
      "metadata": {
        "id": "view-in-github",
        "colab_type": "text"
      },
      "source": [
        "<a href=\"https://colab.research.google.com/github/FadyGamilM/Deep-Learning-TensorFlow/blob/master/00_Intro_To_Tensorflow.ipynb\" target=\"_parent\"><img src=\"https://colab.research.google.com/assets/colab-badge.svg\" alt=\"Open In Colab\"/></a>"
      ]
    },
    {
      "cell_type": "markdown",
      "metadata": {
        "id": "wzCaXvLOQUq6"
      },
      "source": [
        "# **Objectives**"
      ]
    },
    {
      "cell_type": "markdown",
      "metadata": {
        "id": "tWvVAw4YQhKq"
      },
      "source": [
        "### `Agenda`:\n",
        "* basics of tensors.\n",
        "* Getting Info from tensors.\n",
        "* Manupulating and changing data into tensors.\n",
        "* Tensors & NumPy\n",
        "* Using @tf.function (a way to speed up a regular python function)\n",
        "* Using GPUs with Tensorflow\n"
      ]
    },
    {
      "cell_type": "markdown",
      "metadata": {
        "id": "wrdHrWhRRlZT"
      },
      "source": [
        "> ## **Basics of Tensors**"
      ]
    },
    {
      "cell_type": "code",
      "metadata": {
        "id": "G6YDA1wkZ_dh",
        "colab": {
          "base_uri": "https://localhost:8080/"
        },
        "outputId": "2d7c0191-53a9-41c7-d05f-39950943276e"
      },
      "source": [
        "import tensorflow as tf\n",
        "print(tf.__version__)"
      ],
      "execution_count": null,
      "outputs": [
        {
          "output_type": "stream",
          "name": "stdout",
          "text": [
            "2.6.0\n"
          ]
        }
      ]
    },
    {
      "cell_type": "markdown",
      "metadata": {
        "id": "IBKdwfzH7bFc"
      },
      "source": [
        ">> ## **Creating tensors tf.constant()**\n",
        "---"
      ]
    },
    {
      "cell_type": "code",
      "metadata": {
        "id": "KZXeM4L7aGas",
        "colab": {
          "base_uri": "https://localhost:8080/"
        },
        "outputId": "ae5fa2ea-40b8-41d4-ed8d-465f01278566"
      },
      "source": [
        "# Create tensor using tf.constant()\n",
        "scalar = tf.constant(7)\n",
        "scalar"
      ],
      "execution_count": null,
      "outputs": [
        {
          "output_type": "execute_result",
          "data": {
            "text/plain": [
              "<tf.Tensor: shape=(), dtype=int32, numpy=7>"
            ]
          },
          "metadata": {},
          "execution_count": 17
        }
      ]
    },
    {
      "cell_type": "code",
      "metadata": {
        "id": "ZPIWJ4NfbB_i",
        "colab": {
          "base_uri": "https://localhost:8080/"
        },
        "outputId": "2e5b9e1a-addd-443b-ff00-d33b1c4ea914"
      },
      "source": [
        "# You can check the dimensions of your tensor by using .ndim\n",
        "scalar.ndim"
      ],
      "execution_count": null,
      "outputs": [
        {
          "output_type": "execute_result",
          "data": {
            "text/plain": [
              "0"
            ]
          },
          "metadata": {},
          "execution_count": 18
        }
      ]
    },
    {
      "cell_type": "code",
      "metadata": {
        "id": "PrcLnw5Wbb0F",
        "colab": {
          "base_uri": "https://localhost:8080/"
        },
        "outputId": "9acdf0d9-6022-4f50-da08-bb0fa345acb4"
      },
      "source": [
        "# But we will need vectors tensors more than scalars\n",
        "vector = tf.constant([10,10])\n",
        "vector"
      ],
      "execution_count": null,
      "outputs": [
        {
          "output_type": "execute_result",
          "data": {
            "text/plain": [
              "<tf.Tensor: shape=(2,), dtype=int32, numpy=array([10, 10], dtype=int32)>"
            ]
          },
          "metadata": {},
          "execution_count": 19
        }
      ]
    },
    {
      "cell_type": "code",
      "metadata": {
        "id": "Vzc24GkEblfz",
        "colab": {
          "base_uri": "https://localhost:8080/"
        },
        "outputId": "a5a245ee-497e-4b1a-f90c-292e595ff713"
      },
      "source": [
        "# Lets explore the shape of matrix tensor ..\n",
        "matrix = tf.constant([ [1, 2, 3],\n",
        "                       [1, 5, 9],\n",
        "                       [8, 7, 3] ])\n",
        "matrix.ndim"
      ],
      "execution_count": null,
      "outputs": [
        {
          "output_type": "execute_result",
          "data": {
            "text/plain": [
              "2"
            ]
          },
          "metadata": {},
          "execution_count": 20
        }
      ]
    },
    {
      "cell_type": "code",
      "metadata": {
        "id": "iLePEYjCefcO",
        "colab": {
          "base_uri": "https://localhost:8080/"
        },
        "outputId": "ced5fe83-b636-40a0-e549-c1651bd74067"
      },
      "source": [
        "n_dim_matrix = tf.constant([ [ [1, 2], [4, 5] ],\n",
        "                            [ [7, 8], [10, 13] ] ])\n",
        "n_dim_matrix.ndim"
      ],
      "execution_count": null,
      "outputs": [
        {
          "output_type": "execute_result",
          "data": {
            "text/plain": [
              "3"
            ]
          },
          "metadata": {},
          "execution_count": 21
        }
      ]
    },
    {
      "cell_type": "markdown",
      "metadata": {
        "id": "fXKQXHhb76PI"
      },
      "source": [
        ">> ## **Creating tensors using tf.variable()**\n",
        "---\n"
      ]
    },
    {
      "cell_type": "code",
      "metadata": {
        "id": "rXZiFS3C78ae"
      },
      "source": [
        "changeable_tensor = tf.Variable([10, 7])\n",
        "unChangeable_tensor = tf.constant([10, 7])"
      ],
      "execution_count": null,
      "outputs": []
    },
    {
      "cell_type": "code",
      "metadata": {
        "id": "1rI53Zsi8xHE",
        "colab": {
          "base_uri": "https://localhost:8080/"
        },
        "outputId": "d963565f-4b60-4935-ec91-60846e692ca1"
      },
      "source": [
        "changeable_tensor"
      ],
      "execution_count": null,
      "outputs": [
        {
          "output_type": "execute_result",
          "data": {
            "text/plain": [
              "<tf.Variable 'Variable:0' shape=(2,) dtype=int32, numpy=array([10,  7], dtype=int32)>"
            ]
          },
          "metadata": {},
          "execution_count": 23
        }
      ]
    },
    {
      "cell_type": "code",
      "metadata": {
        "id": "aww8x6_L9nKI",
        "colab": {
          "base_uri": "https://localhost:8080/"
        },
        "outputId": "0ab45a30-f0b3-4ffe-c983-2949ede7bf0e"
      },
      "source": [
        "unChangeable_tensor"
      ],
      "execution_count": null,
      "outputs": [
        {
          "output_type": "execute_result",
          "data": {
            "text/plain": [
              "<tf.Tensor: shape=(2,), dtype=int32, numpy=array([10,  7], dtype=int32)>"
            ]
          },
          "metadata": {},
          "execution_count": 24
        }
      ]
    },
    {
      "cell_type": "markdown",
      "metadata": {
        "id": "RVcdg9Te9n7q"
      },
      "source": [
        "- **What is the Diff. between variable and constant tensors ?**"
      ]
    },
    {
      "cell_type": "code",
      "metadata": {
        "id": "uFTo0O5XAKEQ",
        "colab": {
          "base_uri": "https://localhost:8080/"
        },
        "outputId": "1dbff73c-0e99-48c4-c024-8c19e86c4af9"
      },
      "source": [
        "# we can change the value of variable tesnors..\n",
        "changeable_tensor[0].assign(5)\n",
        "changeable_tensor"
      ],
      "execution_count": null,
      "outputs": [
        {
          "output_type": "execute_result",
          "data": {
            "text/plain": [
              "<tf.Variable 'Variable:0' shape=(2,) dtype=int32, numpy=array([5, 7], dtype=int32)>"
            ]
          },
          "metadata": {},
          "execution_count": 25
        }
      ]
    },
    {
      "cell_type": "code",
      "metadata": {
        "id": "GLIlqvpLAgQ0",
        "colab": {
          "base_uri": "https://localhost:8080/",
          "height": 381
        },
        "outputId": "207e43af-d63c-4cdf-ae9b-50aabba19b42"
      },
      "source": [
        "# we can't change the value of constant tensors..\n",
        "unChangeable_tensor[0].assign(3)\n",
        "unChangeable_tensor"
      ],
      "execution_count": null,
      "outputs": [
        {
          "output_type": "error",
          "ename": "AttributeError",
          "evalue": "ignored",
          "traceback": [
            "\u001b[0;31m---------------------------------------------------------------------------\u001b[0m",
            "\u001b[0;31mAttributeError\u001b[0m                            Traceback (most recent call last)",
            "\u001b[0;32m<ipython-input-26-549c8f5a0a40>\u001b[0m in \u001b[0;36m<module>\u001b[0;34m()\u001b[0m\n\u001b[1;32m      1\u001b[0m \u001b[0;31m# we can't change the value of constant tensors..\u001b[0m\u001b[0;34m\u001b[0m\u001b[0;34m\u001b[0m\u001b[0;34m\u001b[0m\u001b[0m\n\u001b[0;32m----> 2\u001b[0;31m \u001b[0munChangeable_tensor\u001b[0m\u001b[0;34m[\u001b[0m\u001b[0;36m0\u001b[0m\u001b[0;34m]\u001b[0m\u001b[0;34m.\u001b[0m\u001b[0massign\u001b[0m\u001b[0;34m(\u001b[0m\u001b[0;36m3\u001b[0m\u001b[0;34m)\u001b[0m\u001b[0;34m\u001b[0m\u001b[0;34m\u001b[0m\u001b[0m\n\u001b[0m\u001b[1;32m      3\u001b[0m \u001b[0munChangeable_tensor\u001b[0m\u001b[0;34m\u001b[0m\u001b[0;34m\u001b[0m\u001b[0m\n",
            "\u001b[0;32m/usr/local/lib/python3.7/dist-packages/tensorflow/python/framework/ops.py\u001b[0m in \u001b[0;36m__getattr__\u001b[0;34m(self, name)\u001b[0m\n\u001b[1;32m    399\u001b[0m         \u001b[0;32mfrom\u001b[0m \u001b[0mtensorflow\u001b[0m\u001b[0;34m.\u001b[0m\u001b[0mpython\u001b[0m\u001b[0;34m.\u001b[0m\u001b[0mops\u001b[0m\u001b[0;34m.\u001b[0m\u001b[0mnumpy_ops\u001b[0m \u001b[0;32mimport\u001b[0m \u001b[0mnp_config\u001b[0m\u001b[0;34m\u001b[0m\u001b[0;34m\u001b[0m\u001b[0m\n\u001b[1;32m    400\u001b[0m         np_config.enable_numpy_behavior()\"\"\".format(type(self).__name__, name))\n\u001b[0;32m--> 401\u001b[0;31m     \u001b[0mself\u001b[0m\u001b[0;34m.\u001b[0m\u001b[0m__getattribute__\u001b[0m\u001b[0;34m(\u001b[0m\u001b[0mname\u001b[0m\u001b[0;34m)\u001b[0m\u001b[0;34m\u001b[0m\u001b[0;34m\u001b[0m\u001b[0m\n\u001b[0m\u001b[1;32m    402\u001b[0m \u001b[0;34m\u001b[0m\u001b[0m\n\u001b[1;32m    403\u001b[0m   \u001b[0;34m@\u001b[0m\u001b[0mstaticmethod\u001b[0m\u001b[0;34m\u001b[0m\u001b[0;34m\u001b[0m\u001b[0m\n",
            "\u001b[0;31mAttributeError\u001b[0m: 'tensorflow.python.framework.ops.EagerTensor' object has no attribute 'assign'"
          ]
        }
      ]
    },
    {
      "cell_type": "markdown",
      "metadata": {
        "id": "B6voDlcbD-kV"
      },
      "source": [
        ">> ## **Creating tensors using tf.random()**\n",
        "---"
      ]
    },
    {
      "cell_type": "code",
      "metadata": {
        "id": "F6JuKoEOF2Ps",
        "colab": {
          "base_uri": "https://localhost:8080/"
        },
        "outputId": "ecd7bf94-2907-4dba-9f30-f034f3c81810"
      },
      "source": [
        "# Lets create two random tesnors\n",
        "## ==> Actually they will be the same tensor as we set the same seed\n",
        "rand1 = tf.random.Generator.from_seed(52)\n",
        "# what randTensor.normal() does ??? \n",
        "# ==> it outputs random values from a normal distribution, normal distribution is a function that represents the bell graph \n",
        "rand1 = rand1.normal(shape=(3, 2))\n",
        "rand1"
      ],
      "execution_count": null,
      "outputs": [
        {
          "output_type": "execute_result",
          "data": {
            "text/plain": [
              "<tf.Tensor: shape=(3, 2), dtype=float32, numpy=\n",
              "array([[ 1.0034493 ,  0.20857747],\n",
              "       [ 0.35700995,  1.0648885 ],\n",
              "       [ 1.2432485 , -2.2173238 ]], dtype=float32)>"
            ]
          },
          "metadata": {},
          "execution_count": 27
        }
      ]
    },
    {
      "cell_type": "code",
      "metadata": {
        "id": "bgpXlfR3GLvL",
        "colab": {
          "base_uri": "https://localhost:8080/"
        },
        "outputId": "92b9d923-4a37-41ac-b283-a027d55fb0c4"
      },
      "source": [
        "rand2 = tf.random.Generator.from_seed(52)\n",
        "rand2 = rand2.normal(shape=(3, 2))\n",
        "rand2"
      ],
      "execution_count": null,
      "outputs": [
        {
          "output_type": "execute_result",
          "data": {
            "text/plain": [
              "<tf.Tensor: shape=(3, 2), dtype=float32, numpy=\n",
              "array([[ 1.0034493 ,  0.20857747],\n",
              "       [ 0.35700995,  1.0648885 ],\n",
              "       [ 1.2432485 , -2.2173238 ]], dtype=float32)>"
            ]
          },
          "metadata": {},
          "execution_count": 28
        }
      ]
    },
    {
      "cell_type": "code",
      "metadata": {
        "id": "oWsDI2zKGTWm",
        "colab": {
          "base_uri": "https://localhost:8080/"
        },
        "outputId": "5b1d2c53-17b8-48a9-81e7-657d27745162"
      },
      "source": [
        "\n",
        "# Lets see if the actually the same..\n",
        "rand1 == rand2"
      ],
      "execution_count": null,
      "outputs": [
        {
          "output_type": "execute_result",
          "data": {
            "text/plain": [
              "<tf.Tensor: shape=(3, 2), dtype=bool, numpy=\n",
              "array([[ True,  True],\n",
              "       [ True,  True],\n",
              "       [ True,  True]])>"
            ]
          },
          "metadata": {},
          "execution_count": 29
        }
      ]
    },
    {
      "cell_type": "markdown",
      "metadata": {
        "id": "1owWpuzuG0b7"
      },
      "source": [
        "* **we will need to shuffle the order of our inputs.. how to do that?**"
      ]
    },
    {
      "cell_type": "code",
      "metadata": {
        "id": "suVZ4D0qN6Oa",
        "colab": {
          "base_uri": "https://localhost:8080/"
        },
        "outputId": "dfb9bb9f-9714-411c-e5c3-1ed8876ecfa6"
      },
      "source": [
        "not_shuffled = tf.constant([[1, 2],\n",
        "                            [3, 6],\n",
        "                            [9, 18]])\n",
        "not_shuffled"
      ],
      "execution_count": null,
      "outputs": [
        {
          "output_type": "execute_result",
          "data": {
            "text/plain": [
              "<tf.Tensor: shape=(3, 2), dtype=int32, numpy=\n",
              "array([[ 1,  2],\n",
              "       [ 3,  6],\n",
              "       [ 9, 18]], dtype=int32)>"
            ]
          },
          "metadata": {},
          "execution_count": 30
        }
      ]
    },
    {
      "cell_type": "code",
      "metadata": {
        "id": "5ruUU2hVP0RN",
        "colab": {
          "base_uri": "https://localhost:8080/"
        },
        "outputId": "16232425-cb5b-417b-adcc-26d973f1bd4f"
      },
      "source": [
        "# Lets Shuffle it\n",
        "shuffled = tf.random.shuffle(not_shuffled)\n",
        "shuffled"
      ],
      "execution_count": null,
      "outputs": [
        {
          "output_type": "execute_result",
          "data": {
            "text/plain": [
              "<tf.Tensor: shape=(3, 2), dtype=int32, numpy=\n",
              "array([[ 9, 18],\n",
              "       [ 3,  6],\n",
              "       [ 1,  2]], dtype=int32)>"
            ]
          },
          "metadata": {},
          "execution_count": 31
        }
      ]
    },
    {
      "cell_type": "markdown",
      "metadata": {
        "id": "0kN4Z7tAP-DO"
      },
      "source": [
        "- **So we are on the same page that we have to shuffle our input -tensor form- data befor we pass it into the input layer of neural network**.\n",
        "- **HINT: our input data and initial values for weights, must be re-producable, so the result of shuffle must be the same each time we train the model on it, so we have to set the seed at any specific number and stuck with it till we finish our model**."
      ]
    },
    {
      "cell_type": "code",
      "metadata": {
        "id": "DFh5KzCm7Bgf",
        "colab": {
          "base_uri": "https://localhost:8080/"
        },
        "outputId": "9d6b5656-1e00-48b2-bac7-fd431a8dcf1b"
      },
      "source": [
        "# If you run the following 3 lines any number of times, the result will be the same :D !\n",
        "tf.random.set_seed(60)\n",
        "shuffled_ReProducable = tf.random.shuffle(not_shuffled, seed=60)\n",
        "shuffled_ReProducable"
      ],
      "execution_count": null,
      "outputs": [
        {
          "output_type": "execute_result",
          "data": {
            "text/plain": [
              "<tf.Tensor: shape=(3, 2), dtype=int32, numpy=\n",
              "array([[ 9, 18],\n",
              "       [ 1,  2],\n",
              "       [ 3,  6]], dtype=int32)>"
            ]
          },
          "metadata": {},
          "execution_count": 32
        }
      ]
    },
    {
      "cell_type": "markdown",
      "metadata": {
        "id": "0vasZjFi7NBE"
      },
      "source": [
        ">> ## **Creating tensors from NumPy arrays**\n",
        "---"
      ]
    },
    {
      "cell_type": "code",
      "metadata": {
        "id": "FYNQCdTaBVA4",
        "colab": {
          "base_uri": "https://localhost:8080/"
        },
        "outputId": "8bb8e40b-8bbe-424f-c7c1-f7349b8b8329"
      },
      "source": [
        "import numpy as np\n",
        "# create numpy array .. \n",
        "A_np = np.arange(1, 25)\n",
        "A_np ## ==> its a 1x24 (1 row and 24 cols) vector from NumPy array type.."
      ],
      "execution_count": null,
      "outputs": [
        {
          "output_type": "execute_result",
          "data": {
            "text/plain": [
              "array([ 1,  2,  3,  4,  5,  6,  7,  8,  9, 10, 11, 12, 13, 14, 15, 16, 17,\n",
              "       18, 19, 20, 21, 22, 23, 24])"
            ]
          },
          "metadata": {},
          "execution_count": 33
        }
      ]
    },
    {
      "cell_type": "code",
      "metadata": {
        "id": "9ZZGYPaIBoko",
        "colab": {
          "base_uri": "https://localhost:8080/"
        },
        "outputId": "a1c9a203-cc55-4272-9947-bc6936ce85d2"
      },
      "source": [
        "# Lets convert it into tensor with any shape we want..\n",
        "A_tf_1 = tf.constant(A_np, shape=(3, 8))\n",
        "A_tf_1 = tf.Variable(A_tf_1)\n",
        "A_tf_1\n",
        "A_tf_1[0].assign([8,7,6,5,4,3,2,1])"
      ],
      "execution_count": null,
      "outputs": [
        {
          "output_type": "execute_result",
          "data": {
            "text/plain": [
              "<tf.Variable 'UnreadVariable' shape=(3, 8) dtype=int64, numpy=\n",
              "array([[ 8,  7,  6,  5,  4,  3,  2,  1],\n",
              "       [ 9, 10, 11, 12, 13, 14, 15, 16],\n",
              "       [17, 18, 19, 20, 21, 22, 23, 24]])>"
            ]
          },
          "metadata": {},
          "execution_count": 34
        }
      ]
    },
    {
      "cell_type": "markdown",
      "metadata": {
        "id": "6AenC3prCU7w"
      },
      "source": [
        "* `Hey, I am here to say to you that you will need the following method later..`\n"
      ]
    },
    {
      "cell_type": "code",
      "metadata": {
        "id": "Jond8A2LCY8m",
        "colab": {
          "base_uri": "https://localhost:8080/"
        },
        "outputId": "74631cad-2f9f-4062-af40-8dead119f391"
      },
      "source": [
        "rank2_tf = tf.Variable([[1, 5, 9],[7, 5, 3]])\n",
        "rank2_tf ## => Shape is 2 rows and 3 cols\n"
      ],
      "execution_count": null,
      "outputs": [
        {
          "output_type": "execute_result",
          "data": {
            "text/plain": [
              "<tf.Variable 'Variable:0' shape=(2, 3) dtype=int32, numpy=\n",
              "array([[1, 5, 9],\n",
              "       [7, 5, 3]], dtype=int32)>"
            ]
          },
          "metadata": {},
          "execution_count": 35
        }
      ]
    },
    {
      "cell_type": "code",
      "metadata": {
        "id": "jw1lNfaAJYMi",
        "colab": {
          "base_uri": "https://localhost:8080/"
        },
        "outputId": "2cb5649b-54d7-487d-a82a-cbe6804ad863"
      },
      "source": [
        "# Lets Change the shape by adding a new shape at the end without changing any of rank2_tf content ..\n",
        "rank3_tf = tf.expand_dims(rank2_tf, -1)\n",
        "rank3_tf ## => Oh! now we have 2-rows, each row has 3-rows, each one of them has 1-col"
      ],
      "execution_count": null,
      "outputs": [
        {
          "output_type": "execute_result",
          "data": {
            "text/plain": [
              "<tf.Tensor: shape=(2, 3, 1), dtype=int32, numpy=\n",
              "array([[[1],\n",
              "        [5],\n",
              "        [9]],\n",
              "\n",
              "       [[7],\n",
              "        [5],\n",
              "        [3]]], dtype=int32)>"
            ]
          },
          "metadata": {},
          "execution_count": 36
        }
      ]
    },
    {
      "cell_type": "markdown",
      "metadata": {
        "id": "qbZ0t3zgPOQH"
      },
      "source": [
        ">> ## **Tensors Manipulation (Mathematical Operations)**\n",
        "---\n",
        "\n"
      ]
    },
    {
      "cell_type": "markdown",
      "metadata": {
        "id": "TG7yGly_PVvO"
      },
      "source": [
        "- **Tensors Addition** "
      ]
    },
    {
      "cell_type": "code",
      "metadata": {
        "id": "6KpSaNUbQC6M",
        "colab": {
          "base_uri": "https://localhost:8080/"
        },
        "outputId": "983e306f-a176-4420-baf0-3780f239cbc9"
      },
      "source": [
        "t_original = tf.constant([[1, 2], [3, 4]])\n",
        "t_original + 10"
      ],
      "execution_count": null,
      "outputs": [
        {
          "output_type": "execute_result",
          "data": {
            "text/plain": [
              "<tf.Tensor: shape=(2, 2), dtype=int32, numpy=\n",
              "array([[11, 12],\n",
              "       [13, 14]], dtype=int32)>"
            ]
          },
          "metadata": {},
          "execution_count": 37
        }
      ]
    },
    {
      "cell_type": "code",
      "metadata": {
        "id": "7IbxsiO8QPKk",
        "colab": {
          "base_uri": "https://localhost:8080/"
        },
        "outputId": "4848e838-8e08-40ef-9644-fe0d6d7aa7ae"
      },
      "source": [
        "# What about the original tensor\n",
        "t_original"
      ],
      "execution_count": null,
      "outputs": [
        {
          "output_type": "execute_result",
          "data": {
            "text/plain": [
              "<tf.Tensor: shape=(2, 2), dtype=int32, numpy=\n",
              "array([[1, 2],\n",
              "       [3, 4]], dtype=int32)>"
            ]
          },
          "metadata": {},
          "execution_count": 38
        }
      ]
    },
    {
      "cell_type": "code",
      "metadata": {
        "id": "l31npHreQTMH",
        "colab": {
          "base_uri": "https://localhost:8080/"
        },
        "outputId": "9df380db-5452-4654-cc63-93b8d556d56d"
      },
      "source": [
        "# so it will never change unless you set it ..\n",
        "t_original = t_original + 10\n",
        "t_original"
      ],
      "execution_count": null,
      "outputs": [
        {
          "output_type": "execute_result",
          "data": {
            "text/plain": [
              "<tf.Tensor: shape=(2, 2), dtype=int32, numpy=\n",
              "array([[11, 12],\n",
              "       [13, 14]], dtype=int32)>"
            ]
          },
          "metadata": {},
          "execution_count": 39
        }
      ]
    },
    {
      "cell_type": "markdown",
      "metadata": {
        "id": "wFYXBvS_QYWw"
      },
      "source": [
        "**IMPORTANT HINT**\n",
        ">>> tensor library also has methods that perform these math. operations, so when to use the operators and when to use these built-in methods ?\n",
        "- `Whenever you need your code to run faster on GPU, use tensor library version of whatever you want to do :D`\n",
        "\n"
      ]
    },
    {
      "cell_type": "code",
      "metadata": {
        "id": "-U__OnoQRYUV",
        "colab": {
          "base_uri": "https://localhost:8080/"
        },
        "outputId": "07b6df4a-b9d2-45ec-e3fa-86a22a8d64be"
      },
      "source": [
        "t_original = tf.add(t_original, -10)\n",
        "t_original # -> here we back to the original one "
      ],
      "execution_count": null,
      "outputs": [
        {
          "output_type": "execute_result",
          "data": {
            "text/plain": [
              "<tf.Tensor: shape=(2, 2), dtype=int32, numpy=\n",
              "array([[1, 2],\n",
              "       [3, 4]], dtype=int32)>"
            ]
          },
          "metadata": {},
          "execution_count": 40
        }
      ]
    },
    {
      "cell_type": "markdown",
      "metadata": {
        "id": "vduGm8gcRgGi"
      },
      "source": [
        ">> ## **Matrix Multiplication in tensorFlow**"
      ]
    },
    {
      "cell_type": "markdown",
      "metadata": {
        "id": "AvzJ6BNlUK-G"
      },
      "source": [
        "-- what we talking about here is dot product"
      ]
    },
    {
      "cell_type": "code",
      "metadata": {
        "id": "4TrIwRpCUVke",
        "colab": {
          "base_uri": "https://localhost:8080/"
        },
        "outputId": "d99d8884-e8ca-417e-c9b8-f31e1e035bd7"
      },
      "source": [
        "# A with shape = 3*2 \n",
        "# B with shape = 2*4\n",
        "# Result C = A.B with shape = 3*4\n",
        "A = tf.constant([\n",
        "                 [10, 3],\n",
        "                 [4, 5],\n",
        "                 [6, 2]\n",
        "                 ])\n",
        "B = tf.constant([\n",
        "                 [1, 2, 4, 5],\n",
        "                 [3, 8, 6, 2]\n",
        "                 ])\n",
        "# make sure the shape is correctly \n",
        "A.shape, B.shape\n",
        "# Create the result matrix C ..\n",
        "C = tf.linalg.matmul(A, B)\n",
        "C, C.shape"
      ],
      "execution_count": null,
      "outputs": [
        {
          "output_type": "execute_result",
          "data": {
            "text/plain": [
              "(<tf.Tensor: shape=(3, 4), dtype=int32, numpy=\n",
              " array([[19, 44, 58, 56],\n",
              "        [19, 48, 46, 30],\n",
              "        [12, 28, 36, 34]], dtype=int32)>, TensorShape([3, 4]))"
            ]
          },
          "metadata": {},
          "execution_count": 41
        }
      ]
    },
    {
      "cell_type": "markdown",
      "metadata": {
        "id": "LKnNKG2ilCbP"
      },
      "source": [
        ">> ## **Casting data type of tensors**\n",
        "---\n",
        "\n"
      ]
    },
    {
      "cell_type": "code",
      "metadata": {
        "colab": {
          "base_uri": "https://localhost:8080/"
        },
        "id": "rnudzqS9lLXp",
        "outputId": "e62e149e-288f-4929-b347-af22710abeeb"
      },
      "source": [
        "tf_int32 = tf.constant([1,2,3])\n",
        "tf_int32"
      ],
      "execution_count": null,
      "outputs": [
        {
          "output_type": "execute_result",
          "data": {
            "text/plain": [
              "<tf.Tensor: shape=(3,), dtype=int32, numpy=array([1, 2, 3], dtype=int32)>"
            ]
          },
          "metadata": {},
          "execution_count": 42
        }
      ]
    },
    {
      "cell_type": "code",
      "metadata": {
        "colab": {
          "base_uri": "https://localhost:8080/"
        },
        "id": "s81cxiAolSdu",
        "outputId": "1f48551c-4332-44b3-f34b-cf62e7d5feaa"
      },
      "source": [
        "tf_float32 = tf.constant([1. , 2. , 3.])\n",
        "tf_float32"
      ],
      "execution_count": null,
      "outputs": [
        {
          "output_type": "execute_result",
          "data": {
            "text/plain": [
              "<tf.Tensor: shape=(3,), dtype=float32, numpy=array([1., 2., 3.], dtype=float32)>"
            ]
          },
          "metadata": {},
          "execution_count": 43
        }
      ]
    },
    {
      "cell_type": "code",
      "metadata": {
        "colab": {
          "base_uri": "https://localhost:8080/"
        },
        "id": "5Zf_DBsYlZeB",
        "outputId": "c9345e75-fec8-4910-f36d-32f627218d39"
      },
      "source": [
        "tf_int16 = tf.cast(tf_int32, dtype=tf.int16)\n",
        "tf_int16"
      ],
      "execution_count": null,
      "outputs": [
        {
          "output_type": "execute_result",
          "data": {
            "text/plain": [
              "<tf.Tensor: shape=(3,), dtype=int16, numpy=array([1, 2, 3], dtype=int16)>"
            ]
          },
          "metadata": {},
          "execution_count": 44
        }
      ]
    },
    {
      "cell_type": "code",
      "metadata": {
        "colab": {
          "base_uri": "https://localhost:8080/"
        },
        "id": "0yHl9EsWljDh",
        "outputId": "9b4da87e-4014-4083-9551-f83c5a684ac2"
      },
      "source": [
        "tf_float16 = tf.cast(tf_float32, dtype = tf.float16)\n",
        "tf_float16"
      ],
      "execution_count": null,
      "outputs": [
        {
          "output_type": "execute_result",
          "data": {
            "text/plain": [
              "<tf.Tensor: shape=(3,), dtype=float16, numpy=array([1., 2., 3.], dtype=float16)>"
            ]
          },
          "metadata": {},
          "execution_count": 45
        }
      ]
    },
    {
      "cell_type": "markdown",
      "metadata": {
        "id": "arC5SWi-lwUt"
      },
      "source": [
        ">> ## **Tensor Aggregation**\n"
      ]
    },
    {
      "cell_type": "code",
      "metadata": {
        "colab": {
          "base_uri": "https://localhost:8080/"
        },
        "id": "J9uAJrX22Aa2",
        "outputId": "8641978b-a808-415c-c3b6-68be5c15861e"
      },
      "source": [
        "E = tf.constant(np.random.randint(0, 100, size=50))\n",
        "E"
      ],
      "execution_count": null,
      "outputs": [
        {
          "output_type": "execute_result",
          "data": {
            "text/plain": [
              "<tf.Tensor: shape=(50,), dtype=int64, numpy=\n",
              "array([55, 98, 13, 25, 39, 89, 36, 55, 18, 57, 82,  6, 29, 86, 97, 78, 37,\n",
              "       12, 10,  3, 80, 12, 57, 20, 89, 74, 46, 96, 10, 20, 98, 72,  9, 79,\n",
              "       65, 23, 24, 88,  2, 14, 57, 40, 37, 31, 99, 34, 70, 31, 35, 84])>"
            ]
          },
          "metadata": {},
          "execution_count": 46
        }
      ]
    },
    {
      "cell_type": "code",
      "metadata": {
        "colab": {
          "base_uri": "https://localhost:8080/"
        },
        "id": "5oAk2sJ22Oaj",
        "outputId": "b10cf659-7163-4da5-84ac-2c94f817f076"
      },
      "source": [
        "tf.reduce_max(E)"
      ],
      "execution_count": null,
      "outputs": [
        {
          "output_type": "execute_result",
          "data": {
            "text/plain": [
              "<tf.Tensor: shape=(), dtype=int64, numpy=99>"
            ]
          },
          "metadata": {},
          "execution_count": 47
        }
      ]
    },
    {
      "cell_type": "code",
      "metadata": {
        "colab": {
          "base_uri": "https://localhost:8080/"
        },
        "id": "BWPDBplf2TIK",
        "outputId": "041eeabd-7cac-4345-be64-cd56d8dfef19"
      },
      "source": [
        "tf.reduce_min(E)"
      ],
      "execution_count": null,
      "outputs": [
        {
          "output_type": "execute_result",
          "data": {
            "text/plain": [
              "<tf.Tensor: shape=(), dtype=int64, numpy=2>"
            ]
          },
          "metadata": {},
          "execution_count": 48
        }
      ]
    },
    {
      "cell_type": "code",
      "metadata": {
        "colab": {
          "base_uri": "https://localhost:8080/"
        },
        "id": "cwqvYVvP2U_D",
        "outputId": "3bb31620-4828-48c1-f8bf-8a3af60f670a"
      },
      "source": [
        "tf.reduce_mean(E)"
      ],
      "execution_count": null,
      "outputs": [
        {
          "output_type": "execute_result",
          "data": {
            "text/plain": [
              "<tf.Tensor: shape=(), dtype=int64, numpy=48>"
            ]
          },
          "metadata": {},
          "execution_count": 49
        }
      ]
    },
    {
      "cell_type": "code",
      "metadata": {
        "colab": {
          "base_uri": "https://localhost:8080/"
        },
        "id": "MQVzRREj2X_k",
        "outputId": "d927101f-21e7-4108-de88-321136a49205"
      },
      "source": [
        "tf.math.reduce_variance(tf.cast(E, dtype=tf.float32))"
      ],
      "execution_count": null,
      "outputs": [
        {
          "output_type": "execute_result",
          "data": {
            "text/plain": [
              "<tf.Tensor: shape=(), dtype=float32, numpy=954.6036>"
            ]
          },
          "metadata": {},
          "execution_count": 50
        }
      ]
    },
    {
      "cell_type": "code",
      "metadata": {
        "colab": {
          "base_uri": "https://localhost:8080/"
        },
        "id": "yzLn1Vqa2fZi",
        "outputId": "3263206a-5996-461b-af7b-40f0097909ec"
      },
      "source": [
        "tf.math.reduce_std(tf.cast(E, dtype=tf.float32))"
      ],
      "execution_count": null,
      "outputs": [
        {
          "output_type": "execute_result",
          "data": {
            "text/plain": [
              "<tf.Tensor: shape=(), dtype=float32, numpy=30.89666>"
            ]
          },
          "metadata": {},
          "execution_count": 51
        }
      ]
    },
    {
      "cell_type": "markdown",
      "metadata": {
        "id": "okViwvRE2lPa"
      },
      "source": [
        "#### IMPORTANT .. \n",
        ">>> - What is the difference between positional max and min, and ordinary max and min !"
      ]
    },
    {
      "cell_type": "code",
      "metadata": {
        "colab": {
          "base_uri": "https://localhost:8080/"
        },
        "id": "OV_lx_9R84oR",
        "outputId": "e4f62532-67ad-4c88-db86-4da2ac4d8f75"
      },
      "source": [
        "# create random tensor \n",
        "r = tf.random.uniform(shape=[20])\n",
        "r"
      ],
      "execution_count": null,
      "outputs": [
        {
          "output_type": "execute_result",
          "data": {
            "text/plain": [
              "<tf.Tensor: shape=(20,), dtype=float32, numpy=\n",
              "array([0.48295116, 0.8671261 , 0.11581647, 0.97698903, 0.49582207,\n",
              "       0.13357067, 0.7688614 , 0.19136631, 0.01417863, 0.74034345,\n",
              "       0.1391542 , 0.72758496, 0.45711946, 0.5973216 , 0.92649686,\n",
              "       0.59118557, 0.89438045, 0.17881203, 0.9413141 , 0.36611676],\n",
              "      dtype=float32)>"
            ]
          },
          "metadata": {},
          "execution_count": 52
        }
      ]
    },
    {
      "cell_type": "code",
      "metadata": {
        "colab": {
          "base_uri": "https://localhost:8080/"
        },
        "id": "vTVKROD79DMh",
        "outputId": "6d1eec95-c84e-4ff9-b393-6a9bc8e64ceb"
      },
      "source": [
        "# its obvious that the max item is 0.9992825 which at index = 7, but we knew that because its very small dataset and we already see it \n",
        "## ==> Find position of max item \n",
        "tf.argmax(r)"
      ],
      "execution_count": null,
      "outputs": [
        {
          "output_type": "execute_result",
          "data": {
            "text/plain": [
              "<tf.Tensor: shape=(), dtype=int64, numpy=3>"
            ]
          },
          "metadata": {},
          "execution_count": 53
        }
      ]
    },
    {
      "cell_type": "code",
      "metadata": {
        "colab": {
          "base_uri": "https://localhost:8080/"
        },
        "id": "3ESzADrx9QkU",
        "outputId": "467eef10-af0e-4ef7-9ede-7e541030f092"
      },
      "source": [
        "r[tf.argmax(r)]"
      ],
      "execution_count": null,
      "outputs": [
        {
          "output_type": "execute_result",
          "data": {
            "text/plain": [
              "<tf.Tensor: shape=(), dtype=float32, numpy=0.97698903>"
            ]
          },
          "metadata": {},
          "execution_count": 54
        }
      ]
    },
    {
      "cell_type": "code",
      "metadata": {
        "colab": {
          "base_uri": "https://localhost:8080/"
        },
        "id": "n4NK3V7h9gt7",
        "outputId": "138599f8-4838-4c7b-bd7a-0f5bb2f2d423"
      },
      "source": [
        "# we can find the max item, but we can't find its position\n",
        "tf.math.reduce_max(r)"
      ],
      "execution_count": null,
      "outputs": [
        {
          "output_type": "execute_result",
          "data": {
            "text/plain": [
              "<tf.Tensor: shape=(), dtype=float32, numpy=0.97698903>"
            ]
          },
          "metadata": {},
          "execution_count": 55
        }
      ]
    },
    {
      "cell_type": "markdown",
      "metadata": {
        "id": "6NQbHWUXAdTp"
      },
      "source": [
        ">> ## **One-Hot Encoding**"
      ]
    },
    {
      "cell_type": "code",
      "metadata": {
        "colab": {
          "base_uri": "https://localhost:8080/"
        },
        "id": "FRJBtjzFAg7E",
        "outputId": "afd31ca8-ff9d-49c9-a3dd-5b34ca0d598f"
      },
      "source": [
        "tf_text =[5, 4, 8, 3, 2]\n",
        "tf_text"
      ],
      "execution_count": null,
      "outputs": [
        {
          "output_type": "execute_result",
          "data": {
            "text/plain": [
              "[5, 4, 8, 3, 2]"
            ]
          },
          "metadata": {},
          "execution_count": 56
        }
      ]
    },
    {
      "cell_type": "code",
      "metadata": {
        "colab": {
          "base_uri": "https://localhost:8080/"
        },
        "id": "Py5LSnPyBMT9",
        "outputId": "8d108b3e-b966-45b7-a7bf-6aafb1563183"
      },
      "source": [
        "tf_numeric = tf.one_hot(tf_text, depth= np.max(tf_text)+1)\n",
        "tf_numeric"
      ],
      "execution_count": null,
      "outputs": [
        {
          "output_type": "execute_result",
          "data": {
            "text/plain": [
              "<tf.Tensor: shape=(5, 9), dtype=float32, numpy=\n",
              "array([[0., 0., 0., 0., 0., 1., 0., 0., 0.],\n",
              "       [0., 0., 0., 0., 1., 0., 0., 0., 0.],\n",
              "       [0., 0., 0., 0., 0., 0., 0., 0., 1.],\n",
              "       [0., 0., 0., 1., 0., 0., 0., 0., 0.],\n",
              "       [0., 0., 1., 0., 0., 0., 0., 0., 0.]], dtype=float32)>"
            ]
          },
          "metadata": {},
          "execution_count": 59
        }
      ]
    },
    {
      "cell_type": "code",
      "metadata": {
        "id": "LNw8YsJVBatH",
        "colab": {
          "base_uri": "https://localhost:8080/"
        },
        "outputId": "ae67e819-c0df-4d7a-8dbc-39b94e8e894e"
      },
      "source": [
        "data = [1,2,3,4]\n",
        "tf.one_hot(data, depth=4, on_value=True, off_value=False)"
      ],
      "execution_count": null,
      "outputs": [
        {
          "output_type": "execute_result",
          "data": {
            "text/plain": [
              "<tf.Tensor: shape=(4, 4), dtype=bool, numpy=\n",
              "array([[False,  True, False, False],\n",
              "       [False, False,  True, False],\n",
              "       [False, False, False,  True],\n",
              "       [False, False, False, False]])>"
            ]
          },
          "metadata": {},
          "execution_count": 60
        }
      ]
    },
    {
      "cell_type": "code",
      "metadata": {
        "id": "1D4RzwQQUskk"
      },
      "source": [
        ""
      ],
      "execution_count": null,
      "outputs": []
    }
  ]
}